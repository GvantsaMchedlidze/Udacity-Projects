{
 "cells": [
  {
   "cell_type": "markdown",
   "metadata": {},
   "source": [
    "1. What kind of offers are in boston\n",
    "2. Which is the most popular and what could the reason\n",
    "3. first three factors that modifies the price.\n",
    "4. can we predict it accurately"
   ]
  },
  {
   "cell_type": "code",
   "execution_count": 1,
   "metadata": {},
   "outputs": [],
   "source": [
    "import csv\n",
    "import matplotlib.pyplot as plt\n",
    "import pandas as pd\n",
    "import numpy as np\n",
    "from sklearn.linear_model import LinearRegression\n",
    "from sklearn.model_selection import train_test_split\n",
    "from sklearn.metrics import r2_score, mean_squared_error\n",
    "import seaborn as sns\n",
    "import scipy.stats as stats\n",
    "%matplotlib inline\n"
   ]
  },
  {
   "cell_type": "code",
   "execution_count": 2,
   "metadata": {},
   "outputs": [],
   "source": [
    "def read_csv(filename):\n",
    "    with open(filename, 'rb') as f:\n",
    "        reader = unicodecsv.DictReader(f)\n",
    "        return list(reader)\n",
    "\n",
    "boston = pd.read_csv('Boston/listings.csv')\n",
    "\n",
    "seattle = pd.read_csv('Seattle/listings.csv')"
   ]
  },
  {
   "cell_type": "markdown",
   "metadata": {},
   "source": [
    "The size of the datasets!"
   ]
  },
  {
   "cell_type": "code",
   "execution_count": 3,
   "metadata": {},
   "outputs": [
    {
     "name": "stdout",
     "output_type": "stream",
     "text": [
      "Boston dataset contains: 95 variables and the size of the dataset is: 3585\n",
      "Seattle dataset contains: 92 variables and the size of the dataset is: 3818\n"
     ]
    }
   ],
   "source": [
    "num_rows_b = boston.shape[0] \n",
    "num_cols_b = boston.shape[1] \n",
    "\n",
    "print ('Boston dataset contains:', num_cols_b , 'variables and the size of the dataset is:', num_rows_b )\n",
    "\n",
    "num_rows_s = seattle.shape[0] \n",
    "num_cols_s = seattle.shape[1] \n",
    "\n",
    "print ('Seattle dataset contains:', num_cols_s , 'variables and the size of the dataset is:', num_rows_s )"
   ]
  },
  {
   "cell_type": "markdown",
   "metadata": {},
   "source": [
    "Let's see which are the different variables between two citys."
   ]
  },
  {
   "cell_type": "code",
   "execution_count": 4,
   "metadata": {},
   "outputs": [
    {
     "name": "stdout",
     "output_type": "stream",
     "text": [
      "the variables which are in Boston dataset and are not in Seattle dataset\n"
     ]
    },
    {
     "data": {
      "text/plain": [
       "['interaction', 'access', 'house_rules']"
      ]
     },
     "execution_count": 4,
     "metadata": {},
     "output_type": "execute_result"
    }
   ],
   "source": [
    "print ('the variables which are in Boston dataset and are not in Seattle dataset')\n",
    "list(set(list(boston.columns)) - set(list(seattle.columns)))"
   ]
  },
  {
   "cell_type": "code",
   "execution_count": 5,
   "metadata": {},
   "outputs": [
    {
     "name": "stdout",
     "output_type": "stream",
     "text": [
      "the variables which are in Seattle dataset and are not in Boston dataset\n"
     ]
    },
    {
     "data": {
      "text/plain": [
       "[]"
      ]
     },
     "execution_count": 5,
     "metadata": {},
     "output_type": "execute_result"
    }
   ],
   "source": [
    "print ('the variables which are in Seattle dataset and are not in Boston dataset')\n",
    "list(set(list(seattle.columns)) - set(list(boston.columns)))"
   ]
  },
  {
   "cell_type": "markdown",
   "metadata": {},
   "source": [
    "As a result, boston dataset has extra three variables. \n",
    "As a first step, lets see what information is carried by these variables."
   ]
  },
  {
   "cell_type": "code",
   "execution_count": 6,
   "metadata": {},
   "outputs": [],
   "source": [
    "diff_columns = boston[['house_rules', 'interaction', 'access']]"
   ]
  },
  {
   "cell_type": "markdown",
   "metadata": {},
   "source": [
    "Let's breafly look at variables."
   ]
  },
  {
   "cell_type": "code",
   "execution_count": 7,
   "metadata": {},
   "outputs": [],
   "source": [
    "var_list = list(boston.columns)"
   ]
  },
  {
   "cell_type": "markdown",
   "metadata": {},
   "source": [
    "As a first step, define variables which are constant. "
   ]
  },
  {
   "cell_type": "code",
   "execution_count": 8,
   "metadata": {},
   "outputs": [],
   "source": [
    "def constantlist (df, listofvar):\n",
    "    \n",
    "    '''\n",
    "        INPUT:   dataframe and list of variables of interest\n",
    "        OUTPUT:  list of constant variables\n",
    "    '''\n",
    "    \n",
    "    constlist = []\n",
    "    \n",
    "    for var in listofvar:\n",
    "        result = len(set(df[var])) == 1   \n",
    "    \n",
    "        if result :\n",
    "            constlist.append(var)\n",
    "            \n",
    "    return constlist        "
   ]
  },
  {
   "cell_type": "code",
   "execution_count": 9,
   "metadata": {},
   "outputs": [],
   "source": [
    "consts = constantlist(boston, var_list)"
   ]
  },
  {
   "cell_type": "code",
   "execution_count": 10,
   "metadata": {},
   "outputs": [],
   "source": [
    "bostonvarlist = list(set(list(boston.columns)) - set(consts))"
   ]
  },
  {
   "cell_type": "markdown",
   "metadata": {},
   "source": [
    "Price in thes dataset is not a float value but string. "
   ]
  },
  {
   "cell_type": "code",
   "execution_count": 11,
   "metadata": {},
   "outputs": [],
   "source": [
    "def Pstringtofloat(column):\n",
    "    for i in range (0,num_rows_b):\n",
    "        if isinstance(column[i], str) == False:\n",
    "            continue\n",
    "        if \",\" in column[i]:\n",
    "            column[i]=column[i].replace(\",\",\"\")\n",
    "        column[i]=column[i].replace(\"$\",\"\")\n",
    "    column = column.apply(pd.to_numeric, downcast='float', errors='coerce')    \n",
    "    return column    "
   ]
  },
  {
   "cell_type": "code",
   "execution_count": 12,
   "metadata": {},
   "outputs": [
    {
     "name": "stderr",
     "output_type": "stream",
     "text": [
      "C:\\Users\\Gmchedlidze\\Anaconda3\\lib\\site-packages\\ipykernel_launcher.py:7: SettingWithCopyWarning: \n",
      "A value is trying to be set on a copy of a slice from a DataFrame\n",
      "\n",
      "See the caveats in the documentation: http://pandas.pydata.org/pandas-docs/stable/indexing.html#indexing-view-versus-copy\n",
      "  import sys\n",
      "C:\\Users\\Gmchedlidze\\Anaconda3\\lib\\site-packages\\ipykernel_launcher.py:6: SettingWithCopyWarning: \n",
      "A value is trying to be set on a copy of a slice from a DataFrame\n",
      "\n",
      "See the caveats in the documentation: http://pandas.pydata.org/pandas-docs/stable/indexing.html#indexing-view-versus-copy\n",
      "  \n"
     ]
    }
   ],
   "source": [
    "boston.price = Pstringtofloat(boston.price)"
   ]
  },
  {
   "cell_type": "code",
   "execution_count": 13,
   "metadata": {},
   "outputs": [
    {
     "name": "stderr",
     "output_type": "stream",
     "text": [
      "C:\\Users\\Gmchedlidze\\Anaconda3\\lib\\site-packages\\ipykernel_launcher.py:7: SettingWithCopyWarning: \n",
      "A value is trying to be set on a copy of a slice from a DataFrame\n",
      "\n",
      "See the caveats in the documentation: http://pandas.pydata.org/pandas-docs/stable/indexing.html#indexing-view-versus-copy\n",
      "  import sys\n"
     ]
    }
   ],
   "source": [
    "boston.cleaning_fee = Pstringtofloat(boston.cleaning_fee)"
   ]
  },
  {
   "cell_type": "markdown",
   "metadata": {},
   "source": [
    "choos the variables that have an influence on price and then build the model."
   ]
  },
  {
   "cell_type": "code",
   "execution_count": 14,
   "metadata": {},
   "outputs": [],
   "source": [
    "bostondf = boston[bostonvarlist]"
   ]
  },
  {
   "cell_type": "markdown",
   "metadata": {},
   "source": [
    "Lets check variable list on Nan values and diced remove these variables or repair somehow."
   ]
  },
  {
   "cell_type": "code",
   "execution_count": 15,
   "metadata": {},
   "outputs": [],
   "source": [
    "isnull80 =[]\n",
    "isnull60 =[]\n",
    "isnull20 =[]\n",
    "isnull20mean=[]\n",
    "isnullless20 =[]\n",
    "isnullless20mean = []\n",
    "for var in bostonvarlist:\n",
    "    isnullmean = bostondf[var].isnull().mean()\n",
    "    if isnullmean>= 0.8:\n",
    "        isnull80.append(var)\n",
    "    if isnullmean< 0.8 and isnullmean>= 0.6: \n",
    "        isnull60.append(var)\n",
    "    if isnullmean< 0.6 and isnullmean>= 0.2: \n",
    "        isnull20.append(var) \n",
    "        isnull20mean.append(isnullmean)\n",
    "    if isnullmean< 0.2 and isnullmean> 0.: \n",
    "        isnullless20.append(var)\n",
    "        isnullless20mean.append(isnullmean)\n",
    "        #print (var,\"  \", bostondf[var].isnull().mean())       "
   ]
  },
  {
   "cell_type": "markdown",
   "metadata": {},
   "source": [
    "These columns can be ignored from dataset. "
   ]
  },
  {
   "cell_type": "markdown",
   "metadata": {},
   "source": [
    "###isnull lists"
   ]
  },
  {
   "cell_type": "code",
   "execution_count": 16,
   "metadata": {},
   "outputs": [
    {
     "name": "stdout",
     "output_type": "stream",
     "text": [
      "is empty >= 80% cases\n",
      "['neighbourhood_group_cleansed', 'has_availability', 'square_feet', 'jurisdiction_names', 'license']\n",
      "is empty < 80% and >= 60% cases\n",
      "['security_deposit', 'weekly_price', 'monthly_price']\n",
      "is empty < 60% and >= 20% cases\n",
      "['transit', 'review_scores_communication', 'house_rules', 'space', 'host_about', 'last_review', 'interaction', 'notes', 'review_scores_accuracy', 'reviews_per_month', 'access', 'neighborhood_overview', 'review_scores_rating', 'review_scores_cleanliness', 'review_scores_location', 'review_scores_checkin', 'review_scores_value', 'cleaning_fee', 'first_review']\n"
     ]
    }
   ],
   "source": [
    "print (\"is empty >= 80% cases\")\n",
    "print(isnull80)\n",
    "print (\"is empty < 80% and >= 60% cases\")\n",
    "print(isnull60)\n",
    "print (\"is empty < 60% and >= 20% cases\")\n",
    "print (isnull20)"
   ]
  },
  {
   "cell_type": "markdown",
   "metadata": {},
   "source": [
    "We can repare has_availability variable but lets remove it from the list for now.\n",
    "We can also assume that weekly/monthly price is price per nite times 7/30, also security deposit is 0 if is not provided, but at these stage remove these variables too. \n",
    "lets see >=20% variables more close."
   ]
  },
  {
   "cell_type": "markdown",
   "metadata": {},
   "source": [
    "If the variable gets less than 20 meanings put it in repairlist and discuss afterwords worth to keep that variables or  not."
   ]
  },
  {
   "cell_type": "code",
   "execution_count": 17,
   "metadata": {
    "scrolled": true
   },
   "outputs": [
    {
     "name": "stdout",
     "output_type": "stream",
     "text": [
      "transit :   1859 isnanmean:  0.3598326359832636\n",
      "review_scores_communication :   7 isnanmean:  0.22817294281729428\n",
      "house_rules :   1928 isnanmean:  0.33249651324965135\n",
      "space :   2268 isnanmean:  0.29483960948396093\n",
      "host_about :   1240 isnanmean:  0.36513249651324964\n",
      "last_review :   404 isnanmean:  0.2108786610878661\n",
      "interaction :   1617 isnanmean:  0.43347280334728033\n",
      "notes :   1269 isnanmean:  0.5509065550906556\n",
      "review_scores_accuracy :   8 isnanmean:  0.2295676429567643\n",
      "reviews_per_month :   644 isnanmean:  0.2108786610878661\n",
      "access :   1762 isnanmean:  0.41534170153417016\n",
      "neighborhood_overview :   1728 isnanmean:  0.3947001394700139\n",
      "review_scores_rating :   48 isnanmean:  0.22677824267782426\n",
      "review_scores_cleanliness :   9 isnanmean:  0.22817294281729428\n",
      "review_scores_location :   9 isnanmean:  0.2292887029288703\n",
      "review_scores_checkin :   8 isnanmean:  0.22873082287308227\n",
      "review_scores_value :   9 isnanmean:  0.2290097629009763\n",
      "cleaning_fee :   79 isnanmean:  0.3087866108786611\n",
      "first_review :   975 isnanmean:  0.2108786610878661\n"
     ]
    }
   ],
   "source": [
    "repairlist20 = []\n",
    "for i in range(0,len(isnull20)):\n",
    "    N_groups = len(bostondf.groupby(isnull20[i]).count())\n",
    "    print(isnull20[i],':  ',N_groups, \"isnanmean: \", isnull20mean[i] )\n",
    "    if N_groups <20:\n",
    "        repairlist20.append(isnull20[i])\n",
    "        \n"
   ]
  },
  {
   "cell_type": "code",
   "execution_count": 18,
   "metadata": {},
   "outputs": [
    {
     "name": "stdout",
     "output_type": "stream",
     "text": [
      "host_acceptance_rate :   72 isnanmean:  0.13138075313807532\n",
      "host_response_time :   4 isnanmean:  0.13138075313807532\n",
      "thumbnail_url :   2986 isnanmean:  0.16708507670850767\n",
      "host_response_rate :   52 isnanmean:  0.13138075313807532\n",
      "bedrooms :   6 isnanmean:  0.002789400278940028\n",
      "medium_url :   2986 isnanmean:  0.16708507670850767\n",
      "city :   38 isnanmean:  0.0005578800557880056\n",
      "market :   4 isnanmean:  0.003905160390516039\n",
      "property_type :   13 isnanmean:  0.0008368200836820083\n",
      "summary :   3113 isnanmean:  0.039888423988842396\n",
      "beds :   11 isnanmean:  0.002510460251046025\n",
      "neighbourhood :   30 isnanmean:  0.1514644351464435\n",
      "xl_picture_url :   2986 isnanmean:  0.16708507670850767\n",
      "zipcode :   43 isnanmean:  0.010599721059972107\n",
      "host_location :   176 isnanmean:  0.0030683403068340305\n",
      "bathrooms :   12 isnanmean:  0.003905160390516039\n",
      "host_neighbourhood :   53 isnanmean:  0.09456066945606695\n"
     ]
    }
   ],
   "source": [
    "repairlist= []\n",
    "for i in range(0,len(isnullless20)):\n",
    "    N_groups = len(bostondf.groupby(isnullless20[i]).count())\n",
    "    print(isnullless20[i],':  ',N_groups, \"isnanmean: \", isnullless20mean[i] )\n",
    "    if N_groups < 20 or isnullless20mean[i]<0.05 :\n",
    "        repairlist.append(isnullless20[i])\n",
    "        "
   ]
  },
  {
   "cell_type": "markdown",
   "metadata": {},
   "source": [
    "See which variables passed the first selection."
   ]
  },
  {
   "cell_type": "code",
   "execution_count": 19,
   "metadata": {},
   "outputs": [],
   "source": [
    "var_list = list(set(bostonvarlist) - (set(isnull20) - set(repairlist20)) - (set(isnullless20) -set(repairlist)) - set(isnull60) - set (isnull80))"
   ]
  },
  {
   "cell_type": "markdown",
   "metadata": {},
   "source": [
    "Texted URL-s dont give any information, so we can remove them too."
   ]
  },
  {
   "cell_type": "code",
   "execution_count": 20,
   "metadata": {},
   "outputs": [],
   "source": [
    "removelist = []\n",
    "for var in var_list:\n",
    "    if 'url' in var:\n",
    "        removelist.append(var)"
   ]
  },
  {
   "cell_type": "code",
   "execution_count": 21,
   "metadata": {},
   "outputs": [],
   "source": [
    "var_list = list(set(var_list) - set (removelist))"
   ]
  },
  {
   "cell_type": "markdown",
   "metadata": {},
   "source": [
    "Below is the list of variables which will not be considerd in the analysis. "
   ]
  },
  {
   "cell_type": "code",
   "execution_count": 22,
   "metadata": {},
   "outputs": [],
   "source": [
    "remove_vars = ['notes','listing_url','host_url','host_verifications','xl_picture_url','host_picture_url','thumbnail_url','medium_url','city','neighborhood_overview','transit','last_review','reviews_per_month','interaction','first_review']\n",
    "var_list = list(set(bostonvarlist) -set(remove_vars) - set(isnull60)- set (isnull80))"
   ]
  },
  {
   "cell_type": "code",
   "execution_count": 23,
   "metadata": {},
   "outputs": [
    {
     "name": "stdout",
     "output_type": "stream",
     "text": [
      "review_scores_communication    0.22817294281729428\n",
      "house_rules    0.33249651324965135\n",
      "space    0.29483960948396093\n",
      "host_acceptance_rate    0.13138075313807532\n",
      "host_about    0.36513249651324964\n",
      "host_response_time    0.13138075313807532\n",
      "host_response_rate    0.13138075313807532\n",
      "bedrooms    0.002789400278940028\n",
      "review_scores_accuracy    0.2295676429567643\n",
      "market    0.003905160390516039\n",
      "access    0.41534170153417016\n",
      "review_scores_rating    0.22677824267782426\n",
      "property_type    0.0008368200836820083\n",
      "summary    0.039888423988842396\n",
      "review_scores_cleanliness    0.22817294281729428\n",
      "beds    0.002510460251046025\n",
      "review_scores_location    0.2292887029288703\n",
      "neighbourhood    0.1514644351464435\n",
      "review_scores_checkin    0.22873082287308227\n",
      "review_scores_value    0.2290097629009763\n",
      "cleaning_fee    0.3087866108786611\n",
      "zipcode    0.010599721059972107\n",
      "host_location    0.0030683403068340305\n",
      "bathrooms    0.003905160390516039\n",
      "host_neighbourhood    0.09456066945606695\n"
     ]
    }
   ],
   "source": [
    "var_miss_val = []\n",
    "for var in var_list:\n",
    "    isnullmean = bostondf[var].isnull().mean()\n",
    "    if isnullmean>0.:\n",
    "        var_miss_val.append(var)\n",
    "        print (var,\"  \", bostondf[var].isnull().mean())"
   ]
  },
  {
   "cell_type": "markdown",
   "metadata": {},
   "source": [
    "check what kind of offers are existing for boston"
   ]
  },
  {
   "cell_type": "code",
   "execution_count": 122,
   "metadata": {},
   "outputs": [
    {
     "data": {
      "text/plain": [
       "['room_type',\n",
       " 'neighbourhood',\n",
       " 'minimum_nights',\n",
       " 'smart_location',\n",
       " 'space',\n",
       " 'instant_bookable',\n",
       " 'id',\n",
       " 'host_neighbourhood',\n",
       " 'price',\n",
       " 'amenities',\n",
       " 'bedrooms',\n",
       " 'bathrooms',\n",
       " 'availability_365',\n",
       " 'market',\n",
       " 'host_identity_verified',\n",
       " 'availability_90',\n",
       " 'beds',\n",
       " 'guests_included',\n",
       " 'house_rules',\n",
       " 'host_has_profile_pic',\n",
       " 'calculated_host_listings_count',\n",
       " 'host_name',\n",
       " 'host_response_time',\n",
       " 'host_location',\n",
       " 'availability_30',\n",
       " 'host_listings_count',\n",
       " 'neighbourhood_cleansed',\n",
       " 'availability_60',\n",
       " 'review_scores_rating',\n",
       " 'host_about',\n",
       " 'access',\n",
       " 'host_response_rate',\n",
       " 'street',\n",
       " 'host_acceptance_rate',\n",
       " 'host_thumbnail_url',\n",
       " 'host_total_listings_count',\n",
       " 'is_location_exact',\n",
       " 'description',\n",
       " 'zipcode',\n",
       " 'maximum_nights',\n",
       " 'number_of_reviews',\n",
       " 'name',\n",
       " 'host_id',\n",
       " 'review_scores_value',\n",
       " 'latitude',\n",
       " 'cleaning_fee',\n",
       " 'summary',\n",
       " 'accommodates',\n",
       " 'review_scores_communication',\n",
       " 'extra_people',\n",
       " 'property_type',\n",
       " 'review_scores_cleanliness',\n",
       " 'picture_url',\n",
       " 'calendar_updated',\n",
       " 'host_since',\n",
       " 'longitude',\n",
       " 'bed_type',\n",
       " 'review_scores_accuracy',\n",
       " 'review_scores_location',\n",
       " 'review_scores_checkin',\n",
       " 'require_guest_profile_picture',\n",
       " 'require_guest_phone_verification',\n",
       " 'cancellation_policy',\n",
       " 'host_is_superhost']"
      ]
     },
     "execution_count": 122,
     "metadata": {},
     "output_type": "execute_result"
    }
   ],
   "source": [
    "var_list"
   ]
  },
  {
   "cell_type": "markdown",
   "metadata": {},
   "source": [
    "#### zipcode\n",
    "we can repare zipcode  and neighbourhood by latitude and longitude"
   ]
  },
  {
   "cell_type": "code",
   "execution_count": null,
   "metadata": {},
   "outputs": [],
   "source": [
    "# dataframe where zip code exists\n",
    "exist_zip = bostondf[bostondf['neighbourhood'] != bostondf['neighbourhood'].isnull()] \n",
    "# dataframe with missing zipcode\n",
    "no_zip = bostondf[bostondf['neighbourhood'].isnull()]\n",
    "\n",
    "for lat in no_zip.latitude:\n",
    "    subset_df = exist_zip[exist_zip.latitude == lat]\n",
    "    for long in no_zip.longitude:\n",
    "         print(exist_zip[exist_zip.longitude == long].neighbourhood)"
   ]
  },
  {
   "cell_type": "code",
   "execution_count": 24,
   "metadata": {},
   "outputs": [
    {
     "data": {
      "image/png": "[encoded data removed]",
      "text/plain": [
       "<Figure size 432x288 with 1 Axes>"
      ]
     },
     "metadata": {
      "needs_background": "light"
     },
     "output_type": "display_data"
    }
   ],
   "source": [
    "Ptype = bostondf.property_type.value_counts() #Provide a pandas series of the counts for each property type\n",
    "\n",
    "# The below should be a bar chart of the proportion of individual property type category.\n",
    "(Ptype/bostondf.shape[0]).plot(kind=\"bar\");\n",
    "plt.title(\"What kind of properties are offered?\");\n",
    "#bostondf.groupby(['property_type']).count()"
   ]
  },
  {
   "cell_type": "code",
   "execution_count": 25,
   "metadata": {},
   "outputs": [
    {
     "data": {
      "image/png": "[encoded data removed]",
      "text/plain": [
       "<Figure size 432x288 with 1 Axes>"
      ]
     },
     "metadata": {
      "needs_background": "light"
     },
     "output_type": "display_data"
    }
   ],
   "source": [
    "Rtype = bostondf.room_type.value_counts() #Provide a pandas series of the counts for each property type\n",
    "\n",
    "# The below should be a bar chart of the proportion of individual property type category.\n",
    "(Rtype/bostondf.shape[0]).plot(kind=\"bar\");\n",
    "plt.title(\"What kind of properties are offered?\");"
   ]
  },
  {
   "cell_type": "code",
   "execution_count": 37,
   "metadata": {},
   "outputs": [
    {
     "data": {
      "text/plain": [
       "<matplotlib.axes._subplots.AxesSubplot at 0x1a1306444e0>"
      ]
     },
     "execution_count": 37,
     "metadata": {},
     "output_type": "execute_result"
    },
    {
     "data": {
      "image/png": "[encoded data removed]",
      "text/plain": [
       "<Figure size 432x288 with 1 Axes>"
      ]
     },
     "metadata": {
      "needs_background": "light"
     },
     "output_type": "display_data"
    }
   ],
   "source": [
    "bostondf.price.hist()"
   ]
  },
  {
   "cell_type": "code",
   "execution_count": 26,
   "metadata": {},
   "outputs": [
    {
     "name": "stdout",
     "output_type": "stream",
     "text": [
      "room_type        Entire home/apt  Private room  Shared room\n",
      "property_type                                              \n",
      "Apartment             222.479025     98.726463    84.596774\n",
      "Bed & Breakfast       142.500000    130.921053    44.000000\n",
      "Boat                  265.200000    287.000000          NaN\n",
      "Camper/RV              60.000000           NaN          NaN\n",
      "Condominium           234.640000    109.000000    70.000000\n",
      "Dorm                         NaN     62.500000          NaN\n",
      "Entire Floor          154.000000     90.000000          NaN\n",
      "Guesthouse            289.000000           NaN          NaN\n",
      "House                 276.337838     80.246914    62.333333\n",
      "Loft                  217.068966     96.250000    83.000000\n",
      "Other                 324.500000    181.363636   316.250000\n",
      "Townhouse             268.357143    107.275000          NaN\n",
      "Villa                 263.500000    152.500000          NaN\n"
     ]
    }
   ],
   "source": [
    "table = pd.pivot_table(data=bostondf, values='price', index='property_type', columns='room_type', aggfunc='mean')\n",
    "print (table)"
   ]
  },
  {
   "cell_type": "code",
   "execution_count": 34,
   "metadata": {},
   "outputs": [
    {
     "data": {
      "image/png": "[encoded data removed]",
      "text/plain": [
       "<Figure size 720x504 with 2 Axes>"
      ]
     },
     "metadata": {
      "needs_background": "light"
     },
     "output_type": "display_data"
    }
   ],
   "source": [
    "bostondf.plot(kind=\"scatter\", x=\"longitude\", y=\"latitude\",\n",
    "    s=bostondf['price'], label=\"price\",\n",
    "    c=\"price\", cmap=plt.get_cmap(\"jet\"),\n",
    "    colorbar=True, alpha=1, figsize=(10,7),\n",
    ")\n",
    "plt.legend()\n",
    "plt.show()\n"
   ]
  },
  {
   "cell_type": "code",
   "execution_count": 186,
   "metadata": {},
   "outputs": [
    {
     "data": {
      "image/png": "[encoded data removed]",
      "text/plain": [
       "<Figure size 432x288 with 1 Axes>"
      ]
     },
     "metadata": {
      "needs_background": "light"
     },
     "output_type": "display_data"
    }
   ],
   "source": [
    "import matplotlib.pyplot as plt\n",
    "plt.scatter(x=bostondf['longitude'], y=bostondf['latitude'])\n",
    "plt.show()"
   ]
  },
  {
   "cell_type": "markdown",
   "metadata": {},
   "source": [
    "Let's check categorical variables"
   ]
  },
  {
   "cell_type": "code",
   "execution_count": 54,
   "metadata": {},
   "outputs": [],
   "source": [
    "def create_dummy_df(df, cat_cols, dummy_na):\n",
    "    '''\n",
    "    INPUT:\n",
    "    df - pandas dataframe with categorical variables you want to dummy\n",
    "    cat_cols - list of strings that are associated with names of the categorical columns\n",
    "    dummy_na - Bool holding whether you want to dummy NA vals of categorical columns or not\n",
    "    \n",
    "    OUTPUT:\n",
    "    df - a new dataframe that has the following characteristics:\n",
    "            1. contains all columns that were not specified as categorical\n",
    "            2. removes all the original columns in cat_cols\n",
    "            3. dummy columns for each of the categorical columns in cat_cols\n",
    "            4. if dummy_na is True - it also contains dummy columns for the NaN values\n",
    "            5. Use a prefix of the column name with an underscore (_) for separating \n",
    "    '''\n",
    "    for col in  cat_cols:\n",
    "        try:\n",
    "            # for each cat add dummy var, drop original column\n",
    "            df = pd.concat([df.drop(col, axis=1), pd.get_dummies(df[col], prefix=col, prefix_sep='_', drop_first=True, dummy_na=dummy_na)], axis=1)\n",
    "        except:\n",
    "            continue\n",
    "    return df"
   ]
  },
  {
   "cell_type": "code",
   "execution_count": 60,
   "metadata": {},
   "outputs": [],
   "source": [
    "cat_df = bostondf[var_list].select_dtypes(include=['object'])\n",
    "cat_cols_lst = cat_df.columns\n",
    "\n",
    "#df_new = create_dummy_df(cat_df, cat_cols_lst, dummy_na=False) #Use your newly created function"
   ]
  },
  {
   "cell_type": "code",
   "execution_count": 56,
   "metadata": {},
   "outputs": [
    {
     "data": {
      "text/plain": [
       "0       f\n",
       "1       f\n",
       "2       t\n",
       "3       f\n",
       "4       t\n",
       "       ..\n",
       "3580    f\n",
       "3581    f\n",
       "3582    f\n",
       "3583    f\n",
       "3584    f\n",
       "Name: host_is_superhost, Length: 3585, dtype: object"
      ]
     },
     "execution_count": 56,
     "metadata": {},
     "output_type": "execute_result"
    }
   ],
   "source": [
    "cat_df.host_is_superhost"
   ]
  },
  {
   "cell_type": "code",
   "execution_count": 61,
   "metadata": {},
   "outputs": [
    {
     "data": {
      "text/html": [
       "<div>\n",
       "<style scoped>\n",
       "    .dataframe tbody tr th:only-of-type {\n",
       "        vertical-align: middle;\n",
       "    }\n",
       "\n",
       "    .dataframe tbody tr th {\n",
       "        vertical-align: top;\n",
       "    }\n",
       "\n",
       "    .dataframe thead th {\n",
       "        text-align: right;\n",
       "    }\n",
       "</style>\n",
       "<table border=\"1\" class=\"dataframe\">\n",
       "  <thead>\n",
       "    <tr style=\"text-align: right;\">\n",
       "      <th></th>\n",
       "      <th>room_type</th>\n",
       "      <th>neighbourhood</th>\n",
       "      <th>smart_location</th>\n",
       "      <th>space</th>\n",
       "      <th>instant_bookable</th>\n",
       "      <th>host_neighbourhood</th>\n",
       "      <th>amenities</th>\n",
       "      <th>market</th>\n",
       "      <th>host_identity_verified</th>\n",
       "      <th>house_rules</th>\n",
       "      <th>...</th>\n",
       "      <th>extra_people</th>\n",
       "      <th>property_type</th>\n",
       "      <th>picture_url</th>\n",
       "      <th>calendar_updated</th>\n",
       "      <th>host_since</th>\n",
       "      <th>bed_type</th>\n",
       "      <th>require_guest_profile_picture</th>\n",
       "      <th>require_guest_phone_verification</th>\n",
       "      <th>cancellation_policy</th>\n",
       "      <th>host_is_superhost</th>\n",
       "    </tr>\n",
       "  </thead>\n",
       "  <tbody>\n",
       "    <tr>\n",
       "      <td>0</td>\n",
       "      <td>Entire home/apt</td>\n",
       "      <td>Roslindale</td>\n",
       "      <td>Boston, MA</td>\n",
       "      <td>The house has an open and cozy feel at the sam...</td>\n",
       "      <td>f</td>\n",
       "      <td>Roslindale</td>\n",
       "      <td>{TV,\"Wireless Internet\",Kitchen,\"Free Parking ...</td>\n",
       "      <td>Boston</td>\n",
       "      <td>f</td>\n",
       "      <td>Clean up and treat the home the way you'd like...</td>\n",
       "      <td>...</td>\n",
       "      <td>$0.00</td>\n",
       "      <td>House</td>\n",
       "      <td>https://a2.muscache.com/im/pictures/c0842db1-e...</td>\n",
       "      <td>2 weeks ago</td>\n",
       "      <td>2015-04-15</td>\n",
       "      <td>Real Bed</td>\n",
       "      <td>f</td>\n",
       "      <td>f</td>\n",
       "      <td>moderate</td>\n",
       "      <td>f</td>\n",
       "    </tr>\n",
       "    <tr>\n",
       "      <td>1</td>\n",
       "      <td>Private room</td>\n",
       "      <td>Roslindale</td>\n",
       "      <td>Boston, MA</td>\n",
       "      <td>Small but cozy and quite room with a full size...</td>\n",
       "      <td>t</td>\n",
       "      <td>Roslindale</td>\n",
       "      <td>{TV,Internet,\"Wireless Internet\",\"Air Conditio...</td>\n",
       "      <td>Boston</td>\n",
       "      <td>t</td>\n",
       "      <td>Pet friendly but please confirm with me if the...</td>\n",
       "      <td>...</td>\n",
       "      <td>$0.00</td>\n",
       "      <td>Apartment</td>\n",
       "      <td>https://a1.muscache.com/im/pictures/39327812/d...</td>\n",
       "      <td>a week ago</td>\n",
       "      <td>2012-06-07</td>\n",
       "      <td>Real Bed</td>\n",
       "      <td>f</td>\n",
       "      <td>f</td>\n",
       "      <td>moderate</td>\n",
       "      <td>f</td>\n",
       "    </tr>\n",
       "    <tr>\n",
       "      <td>2</td>\n",
       "      <td>Private room</td>\n",
       "      <td>Roslindale</td>\n",
       "      <td>Boston, MA</td>\n",
       "      <td>Come stay with a friendly, middle-aged guy in ...</td>\n",
       "      <td>f</td>\n",
       "      <td>Roslindale</td>\n",
       "      <td>{TV,\"Cable TV\",\"Wireless Internet\",\"Air Condit...</td>\n",
       "      <td>Boston</td>\n",
       "      <td>t</td>\n",
       "      <td>I encourage you to use my kitchen, cooking and...</td>\n",
       "      <td>...</td>\n",
       "      <td>$20.00</td>\n",
       "      <td>Apartment</td>\n",
       "      <td>https://a2.muscache.com/im/pictures/6ae8335d-9...</td>\n",
       "      <td>5 days ago</td>\n",
       "      <td>2009-05-11</td>\n",
       "      <td>Real Bed</td>\n",
       "      <td>t</td>\n",
       "      <td>f</td>\n",
       "      <td>moderate</td>\n",
       "      <td>t</td>\n",
       "    </tr>\n",
       "    <tr>\n",
       "      <td>3</td>\n",
       "      <td>Private room</td>\n",
       "      <td>NaN</td>\n",
       "      <td>Boston, MA</td>\n",
       "      <td>Most places you find in Boston are small howev...</td>\n",
       "      <td>f</td>\n",
       "      <td>NaN</td>\n",
       "      <td>{TV,Internet,\"Wireless Internet\",\"Air Conditio...</td>\n",
       "      <td>Boston</td>\n",
       "      <td>f</td>\n",
       "      <td>- The bathroom and house are shared so please ...</td>\n",
       "      <td>...</td>\n",
       "      <td>$25.00</td>\n",
       "      <td>House</td>\n",
       "      <td>https://a2.muscache.com/im/pictures/39764190-1...</td>\n",
       "      <td>a week ago</td>\n",
       "      <td>2013-04-21</td>\n",
       "      <td>Real Bed</td>\n",
       "      <td>f</td>\n",
       "      <td>f</td>\n",
       "      <td>moderate</td>\n",
       "      <td>f</td>\n",
       "    </tr>\n",
       "    <tr>\n",
       "      <td>4</td>\n",
       "      <td>Private room</td>\n",
       "      <td>Roslindale</td>\n",
       "      <td>Boston, MA</td>\n",
       "      <td>Clean, attractive, private room, one block fro...</td>\n",
       "      <td>f</td>\n",
       "      <td>Roslindale</td>\n",
       "      <td>{Internet,\"Wireless Internet\",\"Air Conditionin...</td>\n",
       "      <td>Boston</td>\n",
       "      <td>t</td>\n",
       "      <td>Please no smoking in the house, porch or on th...</td>\n",
       "      <td>...</td>\n",
       "      <td>$0.00</td>\n",
       "      <td>House</td>\n",
       "      <td>https://a1.muscache.com/im/pictures/97154760/8...</td>\n",
       "      <td>2 weeks ago</td>\n",
       "      <td>2014-05-11</td>\n",
       "      <td>Real Bed</td>\n",
       "      <td>f</td>\n",
       "      <td>f</td>\n",
       "      <td>flexible</td>\n",
       "      <td>t</td>\n",
       "    </tr>\n",
       "  </tbody>\n",
       "</table>\n",
       "<p>5 rows × 36 columns</p>\n",
       "</div>"
      ],
      "text/plain": [
       "         room_type neighbourhood smart_location  \\\n",
       "0  Entire home/apt    Roslindale     Boston, MA   \n",
       "1     Private room    Roslindale     Boston, MA   \n",
       "2     Private room    Roslindale     Boston, MA   \n",
       "3     Private room           NaN     Boston, MA   \n",
       "4     Private room    Roslindale     Boston, MA   \n",
       "\n",
       "                                               space instant_bookable  \\\n",
       "0  The house has an open and cozy feel at the sam...                f   \n",
       "1  Small but cozy and quite room with a full size...                t   \n",
       "2  Come stay with a friendly, middle-aged guy in ...                f   \n",
       "3  Most places you find in Boston are small howev...                f   \n",
       "4  Clean, attractive, private room, one block fro...                f   \n",
       "\n",
       "  host_neighbourhood                                          amenities  \\\n",
       "0         Roslindale  {TV,\"Wireless Internet\",Kitchen,\"Free Parking ...   \n",
       "1         Roslindale  {TV,Internet,\"Wireless Internet\",\"Air Conditio...   \n",
       "2         Roslindale  {TV,\"Cable TV\",\"Wireless Internet\",\"Air Condit...   \n",
       "3                NaN  {TV,Internet,\"Wireless Internet\",\"Air Conditio...   \n",
       "4         Roslindale  {Internet,\"Wireless Internet\",\"Air Conditionin...   \n",
       "\n",
       "   market host_identity_verified  \\\n",
       "0  Boston                      f   \n",
       "1  Boston                      t   \n",
       "2  Boston                      t   \n",
       "3  Boston                      f   \n",
       "4  Boston                      t   \n",
       "\n",
       "                                         house_rules  ... extra_people  \\\n",
       "0  Clean up and treat the home the way you'd like...  ...        $0.00   \n",
       "1  Pet friendly but please confirm with me if the...  ...        $0.00   \n",
       "2  I encourage you to use my kitchen, cooking and...  ...       $20.00   \n",
       "3  - The bathroom and house are shared so please ...  ...       $25.00   \n",
       "4  Please no smoking in the house, porch or on th...  ...        $0.00   \n",
       "\n",
       "  property_type                                        picture_url  \\\n",
       "0         House  https://a2.muscache.com/im/pictures/c0842db1-e...   \n",
       "1     Apartment  https://a1.muscache.com/im/pictures/39327812/d...   \n",
       "2     Apartment  https://a2.muscache.com/im/pictures/6ae8335d-9...   \n",
       "3         House  https://a2.muscache.com/im/pictures/39764190-1...   \n",
       "4         House  https://a1.muscache.com/im/pictures/97154760/8...   \n",
       "\n",
       "  calendar_updated  host_since  bed_type require_guest_profile_picture  \\\n",
       "0      2 weeks ago  2015-04-15  Real Bed                             f   \n",
       "1       a week ago  2012-06-07  Real Bed                             f   \n",
       "2       5 days ago  2009-05-11  Real Bed                             t   \n",
       "3       a week ago  2013-04-21  Real Bed                             f   \n",
       "4      2 weeks ago  2014-05-11  Real Bed                             f   \n",
       "\n",
       "  require_guest_phone_verification cancellation_policy host_is_superhost  \n",
       "0                                f            moderate                 f  \n",
       "1                                f            moderate                 f  \n",
       "2                                f            moderate                 t  \n",
       "3                                f            moderate                 f  \n",
       "4                                f            flexible                 t  \n",
       "\n",
       "[5 rows x 36 columns]"
      ]
     },
     "execution_count": 61,
     "metadata": {},
     "output_type": "execute_result"
    }
   ],
   "source": [
    "cat_df.head()"
   ]
  },
  {
   "cell_type": "markdown",
   "metadata": {},
   "source": [
    "These variables are expacted to be higly correleted with each other. Check the correlation between them and with the price and then choose which one to use."
   ]
  },
  {
   "cell_type": "code",
   "execution_count": null,
   "metadata": {},
   "outputs": [],
   "source": [
    "bostondf_isna20 = bostondf[reparablefrom20]\n",
    "bostondf_isna20_0 = bostondf_isna20.dropna()\n",
    "bostondf_isna20_1 = bostondf_isna20.fillna(bostondf_isna20.mean())"
   ]
  },
  {
   "cell_type": "code",
   "execution_count": null,
   "metadata": {},
   "outputs": [],
   "source": [
    "for i in range(0,len(reparablefrom20)):\n",
    "    print(\"\\n\")\n",
    "    for j in range(1,len(reparablefrom20)):\n",
    "        cor,pval  = stats.pearsonr(bostondf_isna20_1[reparablefrom20[i]],bostondf_isna20_1[reparablefrom20[j]])\n",
    "        if 1.> cor >0.6:\n",
    "            print (reparablefrom20[i],reparablefrom20[j] )\n",
    "            print (cor)\n",
    "    "
   ]
  },
  {
   "cell_type": "code",
   "execution_count": null,
   "metadata": {},
   "outputs": [],
   "source": [
    "cat_df = bostondf_isna20.select_dtypes(include=['object'])\n",
    "list(cat_df.columns)"
   ]
  },
  {
   "cell_type": "code",
   "execution_count": null,
   "metadata": {},
   "outputs": [],
   "source": [
    "#Create a copy of the dataframe\n",
    "cat_df_copy = cat_df.copy()\n",
    "#Pull a list of the column names of the categorical variables\n",
    "cat_cols_lst = cat_df.columns\n",
    "\n",
    "def create_dummy_df(df, cat_cols, dummy_na):\n",
    "    '''\n",
    "    INPUT:\n",
    "    df - pandas dataframe with categorical variables you want to dummy\n",
    "    cat_cols - list of strings that are associated with names of the categorical columns\n",
    "    dummy_na - Bool holding whether you want to dummy NA vals of categorical columns or not\n",
    "    \n",
    "    OUTPUT:\n",
    "    df - a new dataframe that has the following characteristics:\n",
    "            1. contains all columns that were not specified as categorical\n",
    "            2. removes all the original columns in cat_cols\n",
    "            3. dummy columns for each of the categorical columns in cat_cols\n",
    "            4. if dummy_na is True - it also contains dummy columns for the NaN values\n",
    "            5. Use a prefix of the column name with an underscore (_) for separating \n",
    "    '''\n",
    "    for col in  cat_cols:\n",
    "        try:\n",
    "            # for each cat add dummy var, drop original column\n",
    "            df = pd.concat([df.drop(col, axis=1), pd.get_dummies(df[col], prefix=col, prefix_sep='_', drop_first=True, dummy_na=dummy_na)], axis=1)\n",
    "        except:\n",
    "            continue\n",
    "            \n",
    "    return df"
   ]
  },
  {
   "cell_type": "code",
   "execution_count": null,
   "metadata": {},
   "outputs": [],
   "source": [
    "df_new = create_dummy_df(boston, cat_cols_lst, dummy_na=False) #Use your newly created function\n",
    "\n",
    "# Show shape to assure it has a shape of (5009, 11938)\n",
    "print(df_new.shape)"
   ]
  },
  {
   "cell_type": "code",
   "execution_count": 18,
   "metadata": {},
   "outputs": [
    {
     "name": "stderr",
     "output_type": "stream",
     "text": [
      "C:\\ProgramData\\Anaconda3_1\\lib\\site-packages\\pandas\\core\\frame.py:3494: SettingWithCopyWarning: \n",
      "A value is trying to be set on a copy of a slice from a DataFrame.\n",
      "Try using .loc[row_indexer,col_indexer] = value instead\n",
      "\n",
      "See the caveats in the documentation: http://pandas.pydata.org/pandas-docs/stable/user_guide/indexing.html#returning-a-view-versus-a-copy\n",
      "  self[k1] = value[k2]\n"
     ]
    }
   ],
   "source": [
    "bostondf[repairlist] =bostondf[repairlist].fillna(bostondf[repairlist].mean())"
   ]
  },
  {
   "cell_type": "code",
   "execution_count": null,
   "metadata": {},
   "outputs": [],
   "source": [
    "def clean_fit_linear_mod(df, response_col, cat_cols, dummy_na, test_size=.3, rand_state=42):\n",
    "    '''\n",
    "    INPUT:\n",
    "    df - a dataframe holding all the variables of interest\n",
    "    response_col - a string holding the name of the column \n",
    "    cat_cols - list of strings that are associated with names of the categorical columns\n",
    "    dummy_na - Bool holding whether you want to dummy NA vals of categorical columns or not\n",
    "    test_size - a float between [0,1] about what proportion of data should be in the test dataset\n",
    "    rand_state - an int that is provided as the random state for splitting the data into training and test \n",
    "    \n",
    "    OUTPUT:\n",
    "    test_score - float - r2 score on the test data\n",
    "    train_score - float - r2 score on the test data\n",
    "    lm_model - model object from sklearn\n",
    "    X_train, X_test, y_train, y_test - output from sklearn train test split used for optimal model\n",
    "    \n",
    "    Your function should:\n",
    "    1. Drop the rows with missing response values\n",
    "    2. Drop columns with NaN for all the values\n",
    "    3. Use create_dummy_df to dummy categorical columns\n",
    "    4. Fill the mean of the column for any missing values \n",
    "    5. Split your data into an X matrix and a response vector y\n",
    "    6. Create training and test sets of data\n",
    "    7. Instantiate a LinearRegression model with normalized data\n",
    "    8. Fit your model to the training data\n",
    "    9. Predict the response for the training data and the test data\n",
    "    10. Obtain an rsquared value for both the training and test data\n",
    "    '''\n",
    "\n",
    "    #Drop the rows with missing response values\n",
    "    df  = df.dropna(subset=[response_col], axis=0)\n",
    "\n",
    "    #Drop columns with all NaN values\n",
    "    df = df.dropna(how='all', axis=1)\n",
    "\n",
    "    #Dummy categorical variables\n",
    "    df = create_dummy_df(df, cat_cols, dummy_na)\n",
    "\n",
    "    # Mean function\n",
    "    fill_mean = lambda col: col.fillna(col.mean())\n",
    "    # Fill the mean\n",
    "    df = df.apply(fill_mean, axis=0)\n",
    "\n",
    "    #Split into explanatory and response variables\n",
    "    X = df.drop(response_col, axis=1)\n",
    "    y = df[response_col]\n",
    "\n",
    "    #Split into train and test\n",
    "    X_train, X_test, y_train, y_test = train_test_split(X, y, test_size=test_size, random_state=rand_state)\n",
    "\n",
    "    lm_model = LinearRegression(normalize=True) # Instantiate\n",
    "    lm_model.fit(X_train, y_train) #Fit\n",
    "\n",
    "    #Predict using your model\n",
    "    y_test_preds = lm_model.predict(X_test)\n",
    "    y_train_preds = lm_model.predict(X_train)\n",
    "\n",
    "    #Score using your model\n",
    "    test_score = r2_score(y_test, y_test_preds)\n",
    "    train_score = r2_score(y_train, y_train_preds)\n",
    "\n",
    "    return test_score, train_score, lm_model, X_train, X_test, y_train, y_test\n",
    "\n",
    "\n",
    "#Test your function with the above dataset\n",
    "test_score, train_score, lm_model, X_train, X_test, y_train, y_test = clean_fit_linear_mod(df_new, 'price', cat_cols_lst, dummy_na=False)"
   ]
  },
  {
   "cell_type": "code",
   "execution_count": null,
   "metadata": {},
   "outputs": [],
   "source": [
    "\n",
    "boston.price"
   ]
  },
  {
   "cell_type": "markdown",
   "metadata": {},
   "source": [
    "Print list of variables, which are constant"
   ]
  },
  {
   "cell_type": "code",
   "execution_count": null,
   "metadata": {},
   "outputs": [],
   "source": [
    "isconstant(seattle, var_list )"
   ]
  },
  {
   "cell_type": "code",
   "execution_count": null,
   "metadata": {},
   "outputs": [],
   "source": [
    "plt.scatter( boston.id, boston.scrape_id)"
   ]
  },
  {
   "cell_type": "code",
   "execution_count": null,
   "metadata": {},
   "outputs": [],
   "source": [
    "import scipy.stats as stats\n",
    "for i in range(0,2):\n",
    "    for j in range(1,2):\n",
    "        cor,pval  = stats.pearsonr(boston[var_list[i]],boston[var_list[j]])\n",
    "        if 1>cor>abs(0.8):\n",
    "            print (var_list[i], var_list[j] )\n",
    "            print (cor, '\\n')"
   ]
  },
  {
   "cell_type": "code",
   "execution_count": null,
   "metadata": {},
   "outputs": [],
   "source": [
    "boston.describe()"
   ]
  },
  {
   "cell_type": "code",
   "execution_count": null,
   "metadata": {},
   "outputs": [],
   "source": [
    "status_vals = seattle.host_id.value_counts()"
   ]
  },
  {
   "cell_type": "code",
   "execution_count": null,
   "metadata": {},
   "outputs": [],
   "source": [
    "status_vals.head(10)"
   ]
  },
  {
   "cell_type": "code",
   "execution_count": null,
   "metadata": {},
   "outputs": [],
   "source": []
  }
 ],
 "metadata": {
  "kernelspec": {
   "display_name": "Python 3",
   "language": "python",
   "name": "python3"
  },
  "language_info": {
   "codemirror_mode": {
    "name": "ipython",
    "version": 3
   },
   "file_extension": ".py",
   "mimetype": "text/x-python",
   "name": "python",
   "nbconvert_exporter": "python",
   "pygments_lexer": "ipython3",
   "version": "3.7.1"
  }
 },
 "nbformat": 4,
 "nbformat_minor": 2
}
